{
 "cells": [
  {
   "cell_type": "markdown",
   "id": "e8d0f680",
   "metadata": {},
   "source": [
    "1.\tWrite a Python program to print \"Hello Python\"?"
   ]
  },
  {
   "cell_type": "code",
   "execution_count": 1,
   "id": "989bdec9",
   "metadata": {},
   "outputs": [
    {
     "name": "stdout",
     "output_type": "stream",
     "text": [
      "Hello Python\n"
     ]
    }
   ],
   "source": [
    "print (\"Hello Python\")"
   ]
  },
  {
   "cell_type": "markdown",
   "id": "292a3ed4",
   "metadata": {},
   "source": [
    "2.\tWrite a Python program to do arithmetical operations addition and division.?"
   ]
  },
  {
   "cell_type": "code",
   "execution_count": 3,
   "id": "113dce73",
   "metadata": {},
   "outputs": [
    {
     "name": "stdout",
     "output_type": "stream",
     "text": [
      "Enter first number: 10\n",
      "Enter second number: 5\n",
      "The sum of 10 and 5 is 15.0\n",
      "The division of 10 and 5 is 2.0\n"
     ]
    }
   ],
   "source": [
    "\n",
    "\n",
    "    # Store input numbers:  \n",
    "    num1 = input('Enter first number: ')  \n",
    "    num2 = input('Enter second number: ')  \n",
    "      \n",
    "    # Add two numbers  \n",
    "    sum = float(num1) + float(num2)  \n",
    "    \n",
    "    #Divide two numbers  \n",
    "    div = float(num1) / float(num2)  \n",
    "    # Display the sum  \n",
    "    print('The sum of {0} and {1} is {2}'.format(num1, num2, sum))  \n",
    "      \n",
    "     \n",
    "    # Display the division  \n",
    "    print('The division of {0} and {1} is {2}'.format(num1, num2, div))  "
   ]
  },
  {
   "cell_type": "markdown",
   "id": "bd0eaafc",
   "metadata": {},
   "source": [
    "3.\tWrite a Python program to find the area of a triangle?"
   ]
  },
  {
   "cell_type": "code",
   "execution_count": 4,
   "id": "7136bf7b",
   "metadata": {},
   "outputs": [
    {
     "name": "stdout",
     "output_type": "stream",
     "text": [
      "Enter first side: 20\n",
      "Enter second side: 30\n",
      "Enter third side: 20\n",
      "The area of the triangle is 198.43\n"
     ]
    }
   ],
   "source": [
    "    # Three sides of the triangle is a, b and c:  \n",
    "    a = float(input('Enter first side: '))  \n",
    "    b = float(input('Enter second side: '))  \n",
    "    c = float(input('Enter third side: '))  \n",
    "      \n",
    "    # calculate the semi-perimeter  \n",
    "    s = (a + b + c) / 2  \n",
    "      \n",
    "    # calculate the area  \n",
    "    area = (s*(s-a)*(s-b)*(s-c)) ** 0.5  \n",
    "    print('The area of the triangle is %0.2f' %area)   "
   ]
  },
  {
   "cell_type": "markdown",
   "id": "99321dcc",
   "metadata": {},
   "source": [
    "4.\tWrite a Python program to swap two variables?"
   ]
  },
  {
   "cell_type": "code",
   "execution_count": 6,
   "id": "a0a5991a",
   "metadata": {},
   "outputs": [
    {
     "name": "stdout",
     "output_type": "stream",
     "text": [
      "Please enter value for P: 10\n",
      "Please enter value for Q: 20\n",
      "The Value of P after swapping:  20.0\n",
      "The Value of Q after swapping:  10.0\n"
     ]
    }
   ],
   "source": [
    "    P = int( input(\"Please enter value for P: \"))\n",
    "    Q = int( input(\"Please enter value for Q: \"))\n",
    "    # To Swap the values of two variables using Addition and subtraction operator.\n",
    "    P = P * Q\n",
    "    Q = P / Q\n",
    "    P = P / Q\n",
    "    print (\"The Value of P after swapping: \", P)\n",
    "    print (\"The Value of Q after swapping: \", Q)"
   ]
  },
  {
   "cell_type": "markdown",
   "id": "ab51b824",
   "metadata": {},
   "source": [
    "5.\tWrite a Python program to generate a random number?"
   ]
  },
  {
   "cell_type": "code",
   "execution_count": 7,
   "id": "64bd4feb",
   "metadata": {},
   "outputs": [
    {
     "name": "stdout",
     "output_type": "stream",
     "text": [
      "4\n"
     ]
    }
   ],
   "source": [
    "import random\n",
    "a= random.randint(1,10)\n",
    "print (a)"
   ]
  },
  {
   "cell_type": "code",
   "execution_count": null,
   "id": "58e0a937",
   "metadata": {},
   "outputs": [],
   "source": []
  }
 ],
 "metadata": {
  "kernelspec": {
   "display_name": "Python 3 (ipykernel)",
   "language": "python",
   "name": "python3"
  },
  "language_info": {
   "codemirror_mode": {
    "name": "ipython",
    "version": 3
   },
   "file_extension": ".py",
   "mimetype": "text/x-python",
   "name": "python",
   "nbconvert_exporter": "python",
   "pygments_lexer": "ipython3",
   "version": "3.9.7"
  }
 },
 "nbformat": 4,
 "nbformat_minor": 5
}
